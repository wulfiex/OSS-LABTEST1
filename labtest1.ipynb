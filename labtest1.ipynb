{
 "cells": [
  {
   "cell_type": "code",
   "execution_count": 1,
   "metadata": {},
   "outputs": [],
   "source": [
    "import numpy as np"
   ]
  },
  {
   "cell_type": "code",
   "execution_count": 34,
   "metadata": {},
   "outputs": [],
   "source": [
    "flight_schedule=np.array([[1,'Delhi','Mumbai',1300,40,30],[2,'Delhi','Kolkata',1400,30,10],[3,'Delhi','Dehradun',1330,40,5],[4,'Mumbai','Delhi',1500,40,6]])"
   ]
  },
  {
   "cell_type": "code",
   "execution_count": 35,
   "metadata": {},
   "outputs": [],
   "source": [
    "passenger_records=np.array([[10,'Aditi',1,'40b'],[20,'Raghav',1,'60e'],[30,'Xena',3,'2e'],[40,'Apple',4,'4b']])"
   ]
  },
  {
   "cell_type": "code",
   "execution_count": 36,
   "metadata": {},
   "outputs": [],
   "source": [
    "n=6\n",
    "i=0\n",
    "def find_info(pid):\n",
    "    for i in n:\n",
    "            if pid == passenger_records[i][0]:\n",
    "             print(passenger_records[i][2])\n",
    "             print(passenger_records[i][3])"
   ]
  },
  {
   "cell_type": "code",
   "execution_count": 37,
   "metadata": {},
   "outputs": [],
   "source": [
    "def update_finfo(fid,t):\n",
    "    for i in n:\n",
    "        if fid== flight_schedule[i][0]:\n",
    "            if t== 'e':\n",
    "                flight_schedule[i][0]=flight_schedule[i][5]-1\n",
    "            elif t== 'b':\n",
    "                flight_schedule[i][0]=flight_schedule[i][4]-1\n",
    "            else:\n",
    "                print(\"Invalid type\")"
   ]
  },
  {
   "cell_type": "code",
   "execution_count": 38,
   "metadata": {},
   "outputs": [],
   "source": [
    "maxsum=0\n",
    "minsum=0\n",
    "maxr=0\n",
    "minr=0\n",
    "def find_m(flight_schedule):\n",
    "    for i in n:\n",
    "      \n",
    "        if flight_schedule[i][4]+flight_schedule[i][5]>maxsum:\n",
    "            maxsum=flight_schedule[i][4]+flight_schedule[i][5]\n",
    "            maxr=i\n",
    "        elif flight_schedule[i][4]+flight_schedule[i][5]<minsum:\n",
    "            minsum=flight_schedule[i][4]+flight_schedule[i][5]\n",
    "            minr=i\n",
    "    print(\"Flight with maximum reservations is {flight_schedule[maxr][1]} - {flight_schedule[maxr][2]} \")\n",
    "    print(\"Flight with minimum reservations is {flight_schedule[minr][1]} - {flight_schedule[minr][2]} \")"
   ]
  },
  {
   "cell_type": "code",
   "execution_count": 39,
   "metadata": {},
   "outputs": [],
   "source": [
    "sum=0 \n",
    "def full_book(flight_schedule):\n",
    "    \n",
    "    for i in n:\n",
    "        sum=flight_schedule[i][4]+flight_schedule[i][5]\n",
    "        if sum == 0:\n",
    "            print(\"Flight {i} is fully booked\")\n",
    "        "
   ]
  },
  {
   "cell_type": "code",
   "execution_count": null,
   "metadata": {},
   "outputs": [],
   "source": []
  }
 ],
 "metadata": {
  "kernelspec": {
   "display_name": "Python 3",
   "language": "python",
   "name": "python3"
  },
  "language_info": {
   "codemirror_mode": {
    "name": "ipython",
    "version": 3
   },
   "file_extension": ".py",
   "mimetype": "text/x-python",
   "name": "python",
   "nbconvert_exporter": "python",
   "pygments_lexer": "ipython3",
   "version": "3.7.3"
  }
 },
 "nbformat": 4,
 "nbformat_minor": 2
}
